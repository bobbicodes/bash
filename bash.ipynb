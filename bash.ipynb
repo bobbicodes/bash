{
 "cells": [
  {
   "cell_type": "markdown",
   "metadata": {},
   "source": [
    "# [Bash One-Liners Explained](https://catonmat.net/bash-one-liners-explained-part-one)\n",
    "\n",
    "## Part I: Working with files\n",
    "\n",
    "**1. Empty a file (truncate to 0 size)**"
   ]
  },
  {
   "cell_type": "code",
   "execution_count": 1,
   "metadata": {},
   "outputs": [],
   "source": [
    "> file"
   ]
  },
  {
   "cell_type": "markdown",
   "metadata": {},
   "source": [
    "This one-liner uses the output redirection operator `>`. Redirection of output causes the file to be opened for writing. If the file does not exist it is created; if it does exist it is truncated to zero size. As we're not redirecting anything to the file it remains empty.\n",
    "\n",
    "If you want to replace the contents of a file with some string or create a file with specific content, you can do this:"
   ]
  },
  {
   "cell_type": "code",
   "execution_count": 2,
   "metadata": {},
   "outputs": [],
   "source": [
    "echo \"some string\" > file"
   ]
  },
  {
   "cell_type": "markdown",
   "metadata": {},
   "source": [
    "This puts the string `\"some string\"` in the file.\n",
    "\n",
    "**2. Append a string to a file**"
   ]
  },
  {
   "cell_type": "code",
   "execution_count": 3,
   "metadata": {},
   "outputs": [],
   "source": [
    "echo \"foo bar baz\" >> file"
   ]
  },
  {
   "cell_type": "markdown",
   "metadata": {},
   "source": [
    "This one-liner uses a different output redirection operator `>>`, which appends to the file. If the file does not exist it is created. The string appended to the file is followed by a newline. If you don't want a newline appended after the string, add the `-n` argument to `echo`:"
   ]
  },
  {
   "cell_type": "code",
   "execution_count": 4,
   "metadata": {},
   "outputs": [
    {
     "name": "stdout",
     "output_type": "stream",
     "text": [
      "some string\n",
      "foo bar baz\n"
     ]
    }
   ],
   "source": [
    "cat file"
   ]
  },
  {
   "cell_type": "markdown",
   "metadata": {},
   "source": [
    "**3. Read the first line from a file and put it in a variable**"
   ]
  },
  {
   "cell_type": "code",
   "execution_count": 5,
   "metadata": {},
   "outputs": [
    {
     "name": "stdout",
     "output_type": "stream",
     "text": [
      "some string\n"
     ]
    }
   ],
   "source": [
    "read -r line < file\n",
    "echo $line"
   ]
  },
  {
   "cell_type": "markdown",
   "metadata": {},
   "source": [
    "This one-liner uses the built-in bash command `read` and the input redirection operator `<`. The `read` command reads one line from the standard input and puts it in the `line` variable. The `-r` parameter makes sure the input is read raw, meaning the backslashes won't get escaped (they'll be left as is). The redirection command `< file` opens `file` for reading and makes it the standard input to the `read` command.\n",
    "\n",
    "The `read` command removes all characters present in the special `IFS` variable. IFS stands for Internal Field Separator that is used for word splitting after expansion and to split lines into words with the read built-in command. By default `IFS` contains space, tab, and newline, which means that the leading and trailing tabs and spaces will get removed. If you want to preserve them, you can set `IFS` to nothing for the time being:"
   ]
  },
  {
   "cell_type": "code",
   "execution_count": 6,
   "metadata": {},
   "outputs": [
    {
     "name": "stdout",
     "output_type": "stream",
     "text": [
      "some string\n"
     ]
    }
   ],
   "source": [
    "IFS= read -r line < file\n",
    "echo $line"
   ]
  },
  {
   "cell_type": "markdown",
   "metadata": {},
   "source": [
    "This will change the value of `IFS` just for this command and will make sure the first line gets read into the `line` variable really raw with all the leading and trailing whitespaces.\n",
    "\n",
    "Another way to read the first line from a file into a variable is to do this:"
   ]
  },
  {
   "cell_type": "code",
   "execution_count": 7,
   "metadata": {},
   "outputs": [],
   "source": [
    "line=$(head -1 file)"
   ]
  },
  {
   "cell_type": "markdown",
   "metadata": {},
   "source": [
    "This one-liner uses the command substitution operator `$(...)`. It runs the command in `...`, and returns its output. In this case the command is `head -1 file` that outputs the first line of the file. The output is then assigned to the `line` variable. Using `$(...)` is exactly the same as `...`, so you could have also written:"
   ]
  },
  {
   "cell_type": "code",
   "execution_count": 8,
   "metadata": {},
   "outputs": [],
   "source": [
    "line=`head -1 file`"
   ]
  },
  {
   "cell_type": "markdown",
   "metadata": {},
   "source": [
    "However `$(...)` is the preferred way in bash as it's cleaner and easier to nest.\n",
    "\n",
    "**4. Read a file line-by-line**"
   ]
  },
  {
   "cell_type": "code",
   "execution_count": 9,
   "metadata": {},
   "outputs": [
    {
     "name": "stdout",
     "output_type": "stream",
     "text": [
      "some string\n",
      "foo bar baz\n"
     ]
    }
   ],
   "source": [
    "while read -r line; do\n",
    "    # do something with $line\n",
    "    echo $line\n",
    "done < file"
   ]
  },
  {
   "cell_type": "markdown",
   "metadata": {},
   "source": [
    "This is the one and only right way to read lines from a file one-by-one. This method puts the `read` command in a `while` loop. When the `read` command encounters end-of-file, it returns a positive return code (code for failure) and the while loop stops.\n",
    "\n",
    "Remember that `read` trims leading and trailing whitespace, so if you want to preserve it, clear the `IFS` variable:"
   ]
  },
  {
   "cell_type": "code",
   "execution_count": 10,
   "metadata": {},
   "outputs": [
    {
     "name": "stdout",
     "output_type": "stream",
     "text": [
      "some string\n",
      "foo bar baz\n"
     ]
    }
   ],
   "source": [
    "while IFS= read -r line; do\n",
    "    # do something with $line\n",
    "    echo $line\n",
    "done < file"
   ]
  },
  {
   "cell_type": "markdown",
   "metadata": {},
   "source": [
    "If you don't like to put the `< file` at the end, you can also pipe the contents of the file to the while loop:"
   ]
  },
  {
   "cell_type": "code",
   "execution_count": 11,
   "metadata": {},
   "outputs": [
    {
     "name": "stdout",
     "output_type": "stream",
     "text": [
      "some string\n",
      "foo bar baz\n"
     ]
    }
   ],
   "source": [
    "cat file | while IFS= read -r line; do\n",
    "    # do something with $line\n",
    "    echo $line\n",
    "done"
   ]
  },
  {
   "cell_type": "markdown",
   "metadata": {},
   "source": [
    "**5. Read a random line from a file and put it in a variable**"
   ]
  },
  {
   "cell_type": "code",
   "execution_count": 12,
   "metadata": {},
   "outputs": [
    {
     "name": "stdout",
     "output_type": "stream",
     "text": [
      "foo bar baz\n"
     ]
    }
   ],
   "source": [
    "read -r random_line < <(shuf file)\n",
    "echo $random_line"
   ]
  },
  {
   "cell_type": "markdown",
   "metadata": {},
   "source": [
    "There is no clean way to read a random line from a file with just bash, so we'll need to use some external programs for help. If you're on a modern Linux machine, then it comes with the `shuf` utility that's in GNU coreutils.\n",
    "\n",
    "This one-liner uses the process substitution `<(...)` operator. This process substitution operator creates an anonymous named pipe, and connects the stdout of the process to the write part of the named pipe. Then bash executes the process, and it replaces the whole process substitution expression with the filename of the anonymous named pipe.\n",
    "\n",
    "When bash sees `<(shuf file)` it opens a special file `/dev/fd/n`, where `n` is a free file descriptor, then runs `shuf file` with its stdout connected to `/dev/fd/n` and replaces `<(shuf file)` with `/dev/fd/n` so the command effectively becomes:\n",
    "\n",
    "```\n",
    "read -r random_line < /dev/fd/n\n",
    "```\n",
    "\n",
    "Which reads the first line from the shuffled file.\n",
    "\n",
    "Here is another way to do it with the help of GNU `sort`. GNU `sort` takes the `-R` option that randomizes the input."
   ]
  },
  {
   "cell_type": "code",
   "execution_count": 13,
   "metadata": {},
   "outputs": [
    {
     "name": "stdout",
     "output_type": "stream",
     "text": [
      "some string\n"
     ]
    }
   ],
   "source": [
    "read -r random_line < <(sort -R file)\n",
    "echo $random_line"
   ]
  },
  {
   "cell_type": "markdown",
   "metadata": {},
   "source": [
    "Another way to get a random line in a variable is this:"
   ]
  },
  {
   "cell_type": "code",
   "execution_count": 14,
   "metadata": {},
   "outputs": [
    {
     "name": "stdout",
     "output_type": "stream",
     "text": [
      "foo bar baz\n"
     ]
    }
   ],
   "source": [
    "random_line=$(sort -R file | head -1)\n",
    "echo $random_line"
   ]
  },
  {
   "cell_type": "markdown",
   "metadata": {},
   "source": [
    "Here the file gets randomly sorted by `sort -R` and then `head -1` takes the first line.\n",
    "\n",
    "**6. Read the first three columns/fields from a file into variables**"
   ]
  },
  {
   "cell_type": "code",
   "execution_count": 15,
   "metadata": {},
   "outputs": [
    {
     "name": "stdout",
     "output_type": "stream",
     "text": [
      "some\n",
      "string\n",
      "\n",
      "foo\n",
      "bar\n",
      "baz\n"
     ]
    }
   ],
   "source": [
    "while read -r field1 field2 field3 throwaway; do\n",
    "    # do something with $field1, $field2, and $field3\n",
    "    echo $field1\n",
    "    echo $field2\n",
    "    echo $field3\n",
    "done < file"
   ]
  },
  {
   "cell_type": "markdown",
   "metadata": {},
   "source": [
    "If you specify more than one variable name to the `read` command, it shall split the line into fields (splitting is done based on what's in the `IFS` variable, which contains a whitespace, a tab, and a newline by default), and put the first field in the first variable, the second field in the second variable, etc., and it will put the remaining fields in the last variable. That's why we have the `throwaway` variable after the three field variables. if we didn't have it, and the file had more than three columns, the third field would also get the leftovers.\n",
    "\n",
    "Sometimes it's shorter to just write `_` for the throwaway variable:"
   ]
  },
  {
   "cell_type": "code",
   "execution_count": 16,
   "metadata": {},
   "outputs": [
    {
     "name": "stdout",
     "output_type": "stream",
     "text": [
      "some\n",
      "foo\n"
     ]
    }
   ],
   "source": [
    "while read -r field1 field2 field3 _; do\n",
    "    # do something with $field1, $field2, and $field3\n",
    "    echo $field1\n",
    "done < file"
   ]
  },
  {
   "cell_type": "markdown",
   "metadata": {},
   "source": [
    "Or if you have a file with exactly three fields, then you don't need it at all:"
   ]
  },
  {
   "cell_type": "code",
   "execution_count": 17,
   "metadata": {},
   "outputs": [
    {
     "name": "stdout",
     "output_type": "stream",
     "text": [
      "some\n",
      "foo\n"
     ]
    }
   ],
   "source": [
    "while read -r field1 field2 field3; do\n",
    "    # do something with $field1, $field2, and $field3\n",
    "    echo $field1\n",
    "done < file"
   ]
  },
  {
   "cell_type": "markdown",
   "metadata": {},
   "source": [
    "Here is an example. Let's say you want to find out number of lines, number of words, and number of bytes in a file. If you run `wc` on a file you get these 3 numbers plus the filename as the fourth field:"
   ]
  },
  {
   "cell_type": "code",
   "execution_count": 18,
   "metadata": {},
   "outputs": [
    {
     "name": "stdout",
     "output_type": "stream",
     "text": [
      "x 1\n",
      "x 2\n",
      "x 3\n",
      "x 4\n",
      "x 5\n"
     ]
    }
   ],
   "source": [
    "cat file-with-5-lines"
   ]
  },
  {
   "cell_type": "code",
   "execution_count": 19,
   "metadata": {},
   "outputs": [
    {
     "name": "stdout",
     "output_type": "stream",
     "text": [
      " 5 10 20 file-with-5-lines\n"
     ]
    }
   ],
   "source": [
    "wc file-with-5-lines"
   ]
  },
  {
   "cell_type": "markdown",
   "metadata": {},
   "source": [
    "So this file has 5 lines, 10 words, and 20 chars. We can use the `read` command to get this info into variables:"
   ]
  },
  {
   "cell_type": "code",
   "execution_count": 21,
   "metadata": {},
   "outputs": [
    {
     "name": "stdout",
     "output_type": "stream",
     "text": [
      "5\n",
      "10\n",
      "20\n"
     ]
    }
   ],
   "source": [
    "read lines words chars _ < <(wc file-with-5-lines)\n",
    "echo $lines\n",
    "echo $words\n",
    "echo $chars"
   ]
  },
  {
   "cell_type": "markdown",
   "metadata": {},
   "source": [
    "Similarly you can use here-strings to split strings into variables. Let's say you have a string `\"20 packets in 10 seconds\"` in an `$info` variable and you want to extract `20` and `10`. Not too long ago I'd have written this:"
   ]
  },
  {
   "cell_type": "code",
   "execution_count": 24,
   "metadata": {},
   "outputs": [
    {
     "name": "stdout",
     "output_type": "stream",
     "text": [
      "20\n",
      "10\n"
     ]
    }
   ],
   "source": [
    "info=\"20 packets in 10 seconds\"\n",
    "packets=$(echo $info | awk '{ print $1 }')\n",
    "time=$(echo $info | awk '{ print $4 }')\n",
    "echo $packets\n",
    "echo $time"
   ]
  },
  {
   "cell_type": "markdown",
   "metadata": {},
   "source": [
    "However given the power of `read` and our bash knowledge, we can now do this:"
   ]
  },
  {
   "cell_type": "code",
   "execution_count": 25,
   "metadata": {},
   "outputs": [
    {
     "name": "stdout",
     "output_type": "stream",
     "text": [
      "20\n",
      "10\n"
     ]
    }
   ],
   "source": [
    "read packets _ _ time _ <<< \"$info\"\n",
    "echo $packets\n",
    "echo $time"
   ]
  },
  {
   "cell_type": "markdown",
   "metadata": {},
   "source": [
    "Here the `<<<` is a here-string, which lets you pass strings directly to the standard input of commands.\n",
    "\n",
    "**7. Find the size of a file, and put it in a variable**"
   ]
  },
  {
   "cell_type": "code",
   "execution_count": 27,
   "metadata": {},
   "outputs": [
    {
     "name": "stdout",
     "output_type": "stream",
     "text": [
      "24\n"
     ]
    }
   ],
   "source": [
    "size=$(wc -c < file)\n",
    "echo $size"
   ]
  },
  {
   "cell_type": "markdown",
   "metadata": {},
   "source": [
    "This one-liner uses the command substitution operator `$(...)` that I explained in one-liner #3. It runs the command in `...`, and returns its output. In this case the command is `wc -c < file` that prints the number of chars (bytes) in the file. The output is then assigned to `size` variable.\n",
    "\n",
    "**8. Extract the filename from the path**\n",
    "\n",
    "Let's say you have a `/path/to/file.ext`, and you want to extract just the filename `file.ext`. How do you do it? A good solution is to use the parameter expansion mechanism:"
   ]
  },
  {
   "cell_type": "code",
   "execution_count": 34,
   "metadata": {},
   "outputs": [
    {
     "name": "stdout",
     "output_type": "stream",
     "text": [
      "file.ext\n"
     ]
    }
   ],
   "source": [
    "path=/path/to/file.ext\n",
    "filename=${path##*/}\n",
    "echo $filename"
   ]
  },
  {
   "cell_type": "markdown",
   "metadata": {},
   "source": [
    "This one-liner uses the `${var##pattern}` parameter expansion. This expansion tries to match the `pattern` at the beginning of the `$var` variable. If it matches, then the result of the expansion is the value of `$var` with the longest matching pattern deleted.\n",
    "\n",
    "In this case the pattern is `*/` which matches at the beginning of `/path/to/file.ext` and as it's a greedy match, the pattern matches all the way till the last slash (it matches `/path/to/`). The result of this expansion is then just the filename `file.ext` as the matched pattern gets deleted.\n",
    "\n",
    "**9. Extract the directory name from the path**\n",
    "\n",
    "This is similar to the previous one-liner. Let's say you have a `/path/to/file.ext`, and you want to extract just the path to the file `/path/to`. You can use the parameter expansion again:"
   ]
  },
  {
   "cell_type": "code",
   "execution_count": 36,
   "metadata": {},
   "outputs": [
    {
     "name": "stdout",
     "output_type": "stream",
     "text": [
      "/path/to\n"
     ]
    }
   ],
   "source": [
    "dirname=${path%/*}\n",
    "echo $dirname"
   ]
  },
  {
   "cell_type": "markdown",
   "metadata": {},
   "source": [
    "This time it's the `${var%pattern}` parameter expansion that tries to match the `pattern` at the end of the `$var` variable. If the pattern matches, then the result of the expansion is the value of `$var` shortest matching pattern deleted.\n",
    "\n",
    "In this case the pattern is `/*, which matches at the end of `/path/to/file.ext` (it matches `/file.ext`). The result then is just the dirname `/path/to` as the matched pattern gets deleted.\n",
    "\n",
    "**10. Make a copy of a file quickly**\n",
    "\n",
    "Let's say you want to copy the file at `path/to/file` to `path/to/file_copy`. Normally you'd write:"
   ]
  },
  {
   "cell_type": "code",
   "execution_count": 41,
   "metadata": {},
   "outputs": [
    {
     "name": "stdout",
     "output_type": "stream",
     "text": [
      "file  file_copy\n"
     ]
    }
   ],
   "source": [
    "cp path/to/file path/to/file_copy\n",
    "ls path/to"
   ]
  },
  {
   "cell_type": "markdown",
   "metadata": {},
   "source": [
    "However you can do it much quicker by using the brace expansion `{...}`:"
   ]
  },
  {
   "cell_type": "code",
   "execution_count": 42,
   "metadata": {},
   "outputs": [
    {
     "name": "stdout",
     "output_type": "stream",
     "text": [
      "file  file_copy  file_copy2\n"
     ]
    }
   ],
   "source": [
    "cp path/to/file{,_copy2}\n",
    "ls path/to"
   ]
  },
  {
   "cell_type": "markdown",
   "metadata": {},
   "source": [
    "Brace expansion is a mechanism by which arbitrary strings can be generated. In this particular case `path/to/file{,_copy2}` generates the string `path/to/file path/to/file_copy2`, and the whole command becomes `cp path/to/file path/to/file_copy2`.\n",
    "\n",
    "Similarly you can move a file quickly:"
   ]
  },
  {
   "cell_type": "code",
   "execution_count": 43,
   "metadata": {},
   "outputs": [
    {
     "name": "stdout",
     "output_type": "stream",
     "text": [
      "file_copy  file_copy2  file_old\n"
     ]
    }
   ],
   "source": [
    "mv path/to/file{,_old}\n",
    "ls path/to"
   ]
  },
  {
   "cell_type": "markdown",
   "metadata": {},
   "source": [
    "This expands to `mv path/to/file path/to/file_old`.\n",
    "\n",
    "Next article: [Bash One-Liners Explained, Part II: Working with strings](https://catonmat.net/bash-one-liners-explained-part-two)"
   ]
  }
 ],
 "metadata": {
  "kernelspec": {
   "display_name": "Bash",
   "language": "bash",
   "name": "bash"
  },
  "language_info": {
   "codemirror_mode": "shell",
   "file_extension": ".sh",
   "mimetype": "text/x-sh",
   "name": "bash"
  }
 },
 "nbformat": 4,
 "nbformat_minor": 2
}
