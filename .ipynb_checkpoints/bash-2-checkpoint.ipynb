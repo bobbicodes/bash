{
 "cells": [
  {
   "cell_type": "markdown",
   "metadata": {},
   "source": [
    "# Bash One-Liners Explained\n",
    "\n",
    "## [Part II: Working with strings](https://catonmat.net/bash-one-liners-explained-part-two)"
   ]
  },
  {
   "cell_type": "markdown",
   "metadata": {},
   "source": [
    "**1. Generate the alphabet from a-z**"
   ]
  },
  {
   "cell_type": "code",
   "execution_count": 1,
   "metadata": {},
   "outputs": [
    {
     "name": "stdout",
     "output_type": "stream",
     "text": [
      "a b c d e f g h i j k l m n o p q r s t u v w x y z\n"
     ]
    }
   ],
   "source": [
    "echo {a..z}"
   ]
  },
  {
   "cell_type": "markdown",
   "metadata": {},
   "source": [
    "**2. Generate the alphabet from a-z without spaces between characters**\n",
    "\n",
    "This is an awesome bash trick that 99.99% bash users don't know about. If you supply a list of items to the `printf` function it actually applies the format in a loop until the list is empty! `printf` as a loop! There is nothing more awesome than that!"
   ]
  },
  {
   "cell_type": "code",
   "execution_count": 2,
   "metadata": {},
   "outputs": [
    {
     "name": "stdout",
     "output_type": "stream",
     "text": [
      "abcdefghijklmnopqrstuvwxyz"
     ]
    }
   ],
   "source": [
    "printf \"%c\" {a..z}"
   ]
  },
  {
   "cell_type": "markdown",
   "metadata": {},
   "source": [
    "In this one-liner the printf format is `\"%c\"`, which means \"a character\" and the arguments are all letters from a-z separated by space. So what `printf` does is it iterates over the list outputting each character after character until it runs out of letters.\n",
    "\n",
    "This output is without a terminating newline because the format string was `\"%c\"` and it doesn't include `\\n`. To have it newline terminated, just add `$'\\n'` to the list of chars to print:"
   ]
  },
  {
   "cell_type": "code",
   "execution_count": 3,
   "metadata": {},
   "outputs": [
    {
     "name": "stdout",
     "output_type": "stream",
     "text": [
      "abcdefghijklmnopqrstuvwxyz\n"
     ]
    }
   ],
   "source": [
    "printf \"%c\" {a..z} $'\\n'"
   ]
  },
  {
   "cell_type": "markdown",
   "metadata": {},
   "source": [
    "`$'\\n'` is bash idiomatic way to represent a newline character. `printf` then just prints chars a to z, and the newline character.\n",
    "\n",
    "Another way to add a trailing newline character is to echo the output of `printf`:"
   ]
  },
  {
   "cell_type": "code",
   "execution_count": 5,
   "metadata": {},
   "outputs": [
    {
     "name": "stdout",
     "output_type": "stream",
     "text": [
      "abcdefghijklmnopqrstuvwxyz\n"
     ]
    }
   ],
   "source": [
    "echo $(printf \"%c\" {a..z})"
   ]
  },
  {
   "cell_type": "markdown",
   "metadata": {},
   "source": [
    "This one-liner uses command substitution, which runs `printf \"%c\" {a..z}` and replaces the command with its output. Then `echo` prints this output and adds a newline itself.\n",
    "\n",
    "Want to output all letters in a column instead? Add a newline after each character!"
   ]
  },
  {
   "cell_type": "code",
   "execution_count": 6,
   "metadata": {
    "collapsed": true
   },
   "outputs": [
    {
     "name": "stdout",
     "output_type": "stream",
     "text": [
      "a\n",
      "b\n",
      "c\n",
      "d\n",
      "e\n",
      "f\n",
      "g\n",
      "h\n",
      "i\n",
      "j\n",
      "k\n",
      "l\n",
      "m\n",
      "n\n",
      "o\n",
      "p\n",
      "q\n",
      "r\n",
      "s\n",
      "t\n",
      "u\n",
      "v\n",
      "w\n",
      "x\n",
      "y\n",
      "z\n"
     ]
    }
   ],
   "source": [
    "printf \"%c\\n\" {a..z}"
   ]
  },
  {
   "cell_type": "markdown",
   "metadata": {},
   "source": [
    "Want to put the output from `printf` in a variable quickly? Use the `-v` argument:"
   ]
  },
  {
   "cell_type": "code",
   "execution_count": 8,
   "metadata": {},
   "outputs": [
    {
     "name": "stdout",
     "output_type": "stream",
     "text": [
      "abcdefghijklmnopqrstuvwxyz\n"
     ]
    }
   ],
   "source": [
    "printf -v alphabet \"%c\" {a..z}\n",
    "echo $alphabet"
   ]
  },
  {
   "cell_type": "markdown",
   "metadata": {},
   "source": [
    "Similarly you can generate a list of numbers. Let's say from 1 to 100:"
   ]
  },
  {
   "cell_type": "code",
   "execution_count": 10,
   "metadata": {},
   "outputs": [
    {
     "name": "stdout",
     "output_type": "stream",
     "text": [
      "1 2 3 4 5 6 7 8 9 10 11 12 13 14 15 16 17 18 19 20 21 22 23 24 25 26 27 28 29 30 31 32 33 34 35 36 37 38 39 40 41 42 43 44 45 46 47 48 49 50 51 52 53 54 55 56 57 58 59 60 61 62 63 64 65 66 67 68 69 70 71 72 73 74 75 76 77 78 79 80 81 82 83 84 85 86 87 88 89 90 91 92 93 94 95 96 97 98 99 100\n"
     ]
    }
   ],
   "source": [
    "echo {1..100}"
   ]
  },
  {
   "cell_type": "code",
   "execution_count": 11,
   "metadata": {
    "collapsed": true
   },
   "outputs": [
    {
     "name": "stdout",
     "output_type": "stream",
     "text": [
      "1\n",
      "2\n",
      "3\n",
      "4\n",
      "5\n",
      "6\n",
      "7\n",
      "8\n",
      "9\n",
      "10\n",
      "11\n",
      "12\n",
      "13\n",
      "14\n",
      "15\n",
      "16\n",
      "17\n",
      "18\n",
      "19\n",
      "20\n",
      "21\n",
      "22\n",
      "23\n",
      "24\n",
      "25\n",
      "26\n",
      "27\n",
      "28\n",
      "29\n",
      "30\n",
      "31\n",
      "32\n",
      "33\n",
      "34\n",
      "35\n",
      "36\n",
      "37\n",
      "38\n",
      "39\n",
      "40\n",
      "41\n",
      "42\n",
      "43\n",
      "44\n",
      "45\n",
      "46\n",
      "47\n",
      "48\n",
      "49\n",
      "50\n",
      "51\n",
      "52\n",
      "53\n",
      "54\n",
      "55\n",
      "56\n",
      "57\n",
      "58\n",
      "59\n",
      "60\n",
      "61\n",
      "62\n",
      "63\n",
      "64\n",
      "65\n",
      "66\n",
      "67\n",
      "68\n",
      "69\n",
      "70\n",
      "71\n",
      "72\n",
      "73\n",
      "74\n",
      "75\n",
      "76\n",
      "77\n",
      "78\n",
      "79\n",
      "80\n",
      "81\n",
      "82\n",
      "83\n",
      "84\n",
      "85\n",
      "86\n",
      "87\n",
      "88\n",
      "89\n",
      "90\n",
      "91\n",
      "92\n",
      "93\n",
      "94\n",
      "95\n",
      "96\n",
      "97\n",
      "98\n",
      "99\n",
      "100\n"
     ]
    }
   ],
   "source": [
    "seq 1 100"
   ]
  },
  {
   "cell_type": "markdown",
   "metadata": {},
   "source": [
    "**3. Pad numbers 0 to 9 with a leading zero**\n",
    "\n",
    "Here we use the looping abilities of `printf` again. This time the format is `\"%02d \"`, which means \"zero pad the integer up to two positions\", and the items to loop through are the numbers 0-9, generated by the brace expansion (as explained in the previous one-liner)."
   ]
  },
  {
   "cell_type": "code",
   "execution_count": 12,
   "metadata": {},
   "outputs": [
    {
     "name": "stdout",
     "output_type": "stream",
     "text": [
      "00 01 02 03 04 05 06 07 08 09 "
     ]
    }
   ],
   "source": [
    "printf \"%02d \" {0..9}"
   ]
  },
  {
   "cell_type": "markdown",
   "metadata": {},
   "source": [
    "Works in Bash 4:"
   ]
  },
  {
   "cell_type": "code",
   "execution_count": 14,
   "metadata": {},
   "outputs": [
    {
     "name": "stdout",
     "output_type": "stream",
     "text": [
      "00 01 02 03 04 05 06 07 08 09\n"
     ]
    }
   ],
   "source": [
    "echo {00..09}"
   ]
  },
  {
   "cell_type": "markdown",
   "metadata": {},
   "source": [
    "**4. Produce 30 English words**"
   ]
  },
  {
   "cell_type": "code",
   "execution_count": 15,
   "metadata": {},
   "outputs": [
    {
     "name": "stdout",
     "output_type": "stream",
     "text": [
      "when whence whenceforth where wherein wherefore wherewith wherewithal whither what then thence thenceforth there therein therefore therewith therewithal thither that hen hence henceforth here herein herefore herewith herewithal hither hat\n"
     ]
    }
   ],
   "source": [
    "echo {w,t,}h{e{n{,ce{,forth}},re{,in,fore,with{,al}}},ither,at}"
   ]
  },
  {
   "cell_type": "markdown",
   "metadata": {},
   "source": [
    "This is an abuse of brace expansion. Here is how it works - you can produce permutations of words/symbols:"
   ]
  },
  {
   "cell_type": "code",
   "execution_count": 16,
   "metadata": {},
   "outputs": [
    {
     "name": "stdout",
     "output_type": "stream",
     "text": [
      "a1 a2 a3 b1 b2 b3 c1 c2 c3\n"
     ]
    }
   ],
   "source": [
    "echo {a,b,c}{1,2,3}"
   ]
  },
  {
   "cell_type": "markdown",
   "metadata": {},
   "source": [
    "It takes the first `a`, and combines it with `{1,2,3}`, producing `a1 a2 a3`. Then it takes `b` and combines it with `{1,2,3}`, and then it does the same for `c`.\n",
    "\n",
    "So this one-liner is just a smart combination of braces that when expanded produce all these English words!\n",
    "\n",
    "**5. Produce 10 copies of the same string**"
   ]
  },
  {
   "cell_type": "code",
   "execution_count": 17,
   "metadata": {},
   "outputs": [
    {
     "name": "stdout",
     "output_type": "stream",
     "text": [
      "foo foo foo foo foo foo foo foo foo foo foo\n"
     ]
    }
   ],
   "source": [
    "echo foo{,,,,,,,,,,}"
   ]
  },
  {
   "cell_type": "markdown",
   "metadata": {},
   "source": [
    "**6. Join two strings**"
   ]
  },
  {
   "cell_type": "code",
   "execution_count": 18,
   "metadata": {},
   "outputs": [
    {
     "name": "stdout",
     "output_type": "stream",
     "text": [
      "foobar\n"
     ]
    }
   ],
   "source": [
    "x=foo\n",
    "y=bar\n",
    "echo \"$x$y\""
   ]
  },
  {
   "cell_type": "markdown",
   "metadata": {},
   "source": [
    "This one-liner simply concatenates two variables together.\n",
    "\n",
    "Notice that `\"$x$y\"` were quoted. If we didn't quote it, `echo` would interpret the `$x$y` as regular arguments, and would first try to parse them to see if they contain command line switches. So if `$x` contains something beginning with `-`, it would be a command line argument rather than an argument to echo:"
   ]
  },
  {
   "cell_type": "code",
   "execution_count": 19,
   "metadata": {},
   "outputs": [
    {
     "name": "stdout",
     "output_type": "stream",
     "text": [
      "foo"
     ]
    }
   ],
   "source": [
    "x=-n\n",
    "y=\" foo\"\n",
    "echo $x$y"
   ]
  },
  {
   "cell_type": "markdown",
   "metadata": {},
   "source": [
    "Versus the correct way:"
   ]
  },
  {
   "cell_type": "code",
   "execution_count": 20,
   "metadata": {},
   "outputs": [
    {
     "name": "stdout",
     "output_type": "stream",
     "text": [
      "-n foo\n"
     ]
    }
   ],
   "source": [
    "x=-n\n",
    "y=\" foo\"\n",
    "echo \"$x$y\""
   ]
  },
  {
   "cell_type": "markdown",
   "metadata": {},
   "source": [
    "If you need to put the two joined strings in a variable, you can omit the quotes:"
   ]
  },
  {
   "cell_type": "code",
   "execution_count": 23,
   "metadata": {},
   "outputs": [
    {
     "name": "stdout",
     "output_type": "stream",
     "text": [
      "foo"
     ]
    }
   ],
   "source": [
    "var=$x$y\n",
    "echo $var"
   ]
  },
  {
   "cell_type": "markdown",
   "metadata": {},
   "source": [
    "**7. Split a string on a given character**\n",
    "\n",
    "Let's say you have a string `foo-bar-baz` in the variable `$str` and you want to split it on the dash and iterate over it. You can simply combine `IFS` with `read` to do it:"
   ]
  },
  {
   "cell_type": "code",
   "execution_count": 26,
   "metadata": {},
   "outputs": [
    {
     "name": "stdout",
     "output_type": "stream",
     "text": [
      "foo\n",
      "bar\n",
      "baz\n"
     ]
    }
   ],
   "source": [
    "str=foo-bar-baz\n",
    "IFS=- read -r x y z <<< \"$str\"\n",
    "echo $x\n",
    "echo $y\n",
    "echo $z"
   ]
  },
  {
   "cell_type": "markdown",
   "metadata": {},
   "source": [
    "Here we use the `read x` command that reads data from stdin and puts the data in the `x` `y` and `z` variables. We set `IFS` to `-` as this variable is used for field splitting. If multiple variable names are specified to `read`, `IFS` is used to split the line of input so that each variable gets a single field of the input.\n",
    "\n",
    "In this one-liner `$x` gets `foo`, `$y` gets `bar`, `$z` gets `baz`.\n",
    "\n",
    "Also notice the use of `<<<` operator. This is the here-string operator that allows strings to be passed to stdin of commands easily. In this case string `$str` is passed as stdin to `read`.\n",
    "\n",
    "You can also put the split fields and put them in an array. The `-a` argument to `read` makes it put the split words in the given array. "
   ]
  },
  {
   "cell_type": "code",
   "execution_count": 33,
   "metadata": {},
   "outputs": [
    {
     "name": "stdout",
     "output_type": "stream",
     "text": [
      "foo\n",
      "bar\n",
      "baz\n",
      "foo bar baz\n"
     ]
    }
   ],
   "source": [
    "IFS=- read -ra parts <<< \"foo-bar-baz\"\n",
    "echo ${parts[0]}\n",
    "echo ${parts[1]}\n",
    "echo ${parts[2]}\n",
    "echo ${parts[@]}"
   ]
  },
  {
   "cell_type": "markdown",
   "metadata": {},
   "source": [
    "**8. Process a string character by character**"
   ]
  },
  {
   "cell_type": "code",
   "execution_count": 35,
   "metadata": {},
   "outputs": [
    {
     "name": "stdout",
     "output_type": "stream",
     "text": [
      "f\n",
      "o\n",
      "o\n",
      "-\n",
      "b\n",
      "a\n",
      "r\n",
      "-\n",
      "b\n",
      "a\n",
      "z\n",
      "\n"
     ]
    }
   ],
   "source": [
    "while IFS= read -rn1 c; do\n",
    "    echo $c\n",
    "done <<< \"$str\""
   ]
  },
  {
   "cell_type": "markdown",
   "metadata": {},
   "source": [
    "Here we use the `-n1` argument to `read` command to make it read the input character at a time. Similarly we can use `-n2` to read two chars at a time, etc.\n",
    "\n",
    "**9. Replace \"foo\" with \"bar\" in a string**"
   ]
  },
  {
   "cell_type": "code",
   "execution_count": 37,
   "metadata": {},
   "outputs": [
    {
     "name": "stdout",
     "output_type": "stream",
     "text": [
      "foo-bar-baz\n",
      "bar-bar-baz\n"
     ]
    }
   ],
   "source": [
    "echo $str\n",
    "echo ${str/foo/bar}"
   ]
  },
  {
   "cell_type": "markdown",
   "metadata": {},
   "source": [
    "This uses parameter expansion of form `${var/find/replace}`. It finds the string find in var and replaces it with replace.\n",
    "\n",
    "To replace all occurrences of \"foo\" with \"bar\", use the `${var//find/replace}` form:"
   ]
  },
  {
   "cell_type": "code",
   "execution_count": 38,
   "metadata": {},
   "outputs": [
    {
     "name": "stdout",
     "output_type": "stream",
     "text": [
      "bar-bar-baz\n"
     ]
    }
   ],
   "source": [
    "echo ${str//foo/bar}"
   ]
  },
  {
   "cell_type": "markdown",
   "metadata": {},
   "source": [
    "**10. Check if a string matches a pattern**"
   ]
  },
  {
   "cell_type": "code",
   "execution_count": 41,
   "metadata": {},
   "outputs": [
    {
     "name": "stdout",
     "output_type": "stream",
     "text": [
      "file ends in .zip\n"
     ]
    }
   ],
   "source": [
    "file=yo.zip\n",
    "\n",
    "if [[ $file = *.zip ]]; then\n",
    "    echo \"file ends in .zip\"\n",
    "fi"
   ]
  },
  {
   "cell_type": "markdown",
   "metadata": {},
   "source": [
    "Here the one-liner does something if `$file` matches `.zip`. This is a simple glob pattern matching, and you can use the symbols `*`, `?` and `[...]` to do matching. `*` matches any string, `?` matches a single char, and `[...]` matches any character in `...` or a character class.\n",
    "\n",
    "Here is another example that matches if answer is `Y` or `y`:"
   ]
  },
  {
   "cell_type": "code",
   "execution_count": 46,
   "metadata": {},
   "outputs": [
    {
     "name": "stdout",
     "output_type": "stream",
     "text": [
      "I think so too.\n"
     ]
    }
   ],
   "source": [
    "answer=Y\n",
    "if [[ $answer = [Yy]* ]]; then\n",
    "    echo \"I think so too.\"\n",
    "fi"
   ]
  },
  {
   "cell_type": "markdown",
   "metadata": {},
   "source": [
    "**11. Check if a string matches a regular expression**\n",
    "\n",
    "This tests if the string `$str` matches regex `[0-9]+.[0-9]+`, which means match a number followed by a dot followed by number. The format for regular expressions is described in `man 3 regex`."
   ]
  },
  {
   "cell_type": "code",
   "execution_count": 49,
   "metadata": {},
   "outputs": [
    {
     "name": "stdout",
     "output_type": "stream",
     "text": [
      "match\n"
     ]
    }
   ],
   "source": [
    "str=8.7\n",
    "if [[ $str =~ [0-9]+\\.[0-9]+ ]]; then\n",
    "    echo \"match\"\n",
    "fi"
   ]
  },
  {
   "cell_type": "markdown",
   "metadata": {},
   "source": [
    "**12. Find the length of the string**"
   ]
  },
  {
   "cell_type": "code",
   "execution_count": 50,
   "metadata": {},
   "outputs": [
    {
     "name": "stdout",
     "output_type": "stream",
     "text": [
      "3\n"
     ]
    }
   ],
   "source": [
    "echo ${#str}"
   ]
  },
  {
   "cell_type": "markdown",
   "metadata": {},
   "source": [
    "**13. Extract a substring from a string**\n",
    "\n",
    "This extracts `world` from `hello world`. It uses the substring expansion. In general substring expansion looks like `${var:offset:length}`, and it extracts `length` characters from `var` starting at index `offset`. In our one-liner we omit the `length` that makes it extract all characters starting at offset `6`."
   ]
  },
  {
   "cell_type": "code",
   "execution_count": 51,
   "metadata": {},
   "outputs": [
    {
     "name": "stdout",
     "output_type": "stream",
     "text": [
      "world\n"
     ]
    }
   ],
   "source": [
    "str=\"hello world\"\n",
    "echo ${str:6}"
   ]
  },
  {
   "cell_type": "code",
   "execution_count": 52,
   "metadata": {},
   "outputs": [
    {
     "name": "stdout",
     "output_type": "stream",
     "text": [
      "or\n"
     ]
    }
   ],
   "source": [
    "echo ${str:7:2}"
   ]
  },
  {
   "cell_type": "markdown",
   "metadata": {},
   "source": [
    "**14. Uppercase a string**\n",
    "\n",
    "The `declare` command in bash declares variables and/or gives them attributes. In this case we give the variable `var` attribute `-u`, which upper-cases its content whenever it gets assigned something."
   ]
  },
  {
   "cell_type": "code",
   "execution_count": 54,
   "metadata": {},
   "outputs": [
    {
     "name": "stdout",
     "output_type": "stream",
     "text": [
      "FOO BAR\n"
     ]
    }
   ],
   "source": [
    "declare -u var\n",
    "var=\"foo bar\"\n",
    "echo $var"
   ]
  },
  {
   "cell_type": "markdown",
   "metadata": {},
   "source": [
    "Note that `-u` argument was introduced in bash 4. Similarly you can use another feature of bash 4, which is the `${var^^}` parameter expansion that upper-cases a string in `var`:"
   ]
  },
  {
   "cell_type": "code",
   "execution_count": 55,
   "metadata": {},
   "outputs": [
    {
     "name": "stdout",
     "output_type": "stream",
     "text": [
      "ZOO RAW\n"
     ]
    }
   ],
   "source": [
    "str=\"zoo raw\"\n",
    "echo ${str^^}"
   ]
  },
  {
   "cell_type": "markdown",
   "metadata": {},
   "source": [
    "**15. Lowercase a string**\n",
    "\n",
    "The `-l` argument to `declare` sets the lower-case attribute on `var`, which makes it always be lower-case:"
   ]
  },
  {
   "cell_type": "code",
   "execution_count": 56,
   "metadata": {},
   "outputs": [
    {
     "name": "stdout",
     "output_type": "stream",
     "text": [
      "foo bar\n"
     ]
    }
   ],
   "source": [
    "declare -l var\n",
    "var=\"FOO BAR\"\n",
    "echo $var"
   ]
  },
  {
   "cell_type": "markdown",
   "metadata": {},
   "source": [
    "Another way to lowercase a string is to use the `${var,,}` parameter expansion:"
   ]
  },
  {
   "cell_type": "code",
   "execution_count": 57,
   "metadata": {},
   "outputs": [
    {
     "name": "stdout",
     "output_type": "stream",
     "text": [
      "zoo raw\n"
     ]
    }
   ],
   "source": [
    "str=\"ZOO RAW\"\n",
    "echo ${str,,}"
   ]
  }
 ],
 "metadata": {
  "kernelspec": {
   "display_name": "Bash",
   "language": "bash",
   "name": "bash"
  },
  "language_info": {
   "codemirror_mode": "shell",
   "file_extension": ".sh",
   "mimetype": "text/x-sh",
   "name": "bash"
  }
 },
 "nbformat": 4,
 "nbformat_minor": 2
}
